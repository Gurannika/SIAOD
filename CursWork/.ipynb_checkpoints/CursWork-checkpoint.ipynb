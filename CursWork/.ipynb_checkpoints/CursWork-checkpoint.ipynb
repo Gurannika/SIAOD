{
 "cells": [
  {
   "cell_type": "code",
   "execution_count": 1,
   "metadata": {
    "id": "QSYhc6j21RgP"
   },
   "outputs": [],
   "source": [
    "import csv\n",
    "\n",
    "sales_data = [\n",
    "    [\"1\", \"2024-01-01\", \"Товар A\", \"Категория 1\", \"10\", \"100\", \"1000\"],\n",
    "    [\"2\", \"2024-01-02\", \"Товар B\", \"Категория 2\", \"5\", \"200\", \"1000\"],\n",
    "    [\"3\", \"2024-01-03\", \"Товар C\", \"Категория 1\", \"2\", \"150\", \"300\"],\n",
    "    [\"4\", \"2024-01-04\", \"Товар A\", \"Категория 1\", \"3\", \"100\", \"300\"],\n",
    "    [\"5\", \"2024-01-05\", \"Товар B\", \"Категория 2\", \"7\", \"200\", \"1400\"],\n",
    "    [\"6\", \"2024-01-06\", \"Товар C\", \"Категория 1\", \"1\", \"150\", \"150\"],\n",
    "    [\"7\", \"2024-01-07\", \"Товар A\", \"Категория 1\", \"8\", \"100\", \"800\"],\n",
    "    [\"8\", \"2024-01-08\", \"Товар B\", \"Категория 2\", \"6\", \"200\", \"1200\"],\n",
    "    [\"9\", \"2024-01-09\", \"Товар C\", \"Категория 1\", \"4\", \"150\", \"600\"],\n",
    "    [\"10\", \"2024-01-10\", \"Товар A\", \"Категория 1\", \"5\", \"100\", \"500\"]\n",
    "]\n",
    "\n",
    "\n",
    "header = [\"Номер заказа\", \"Дата заказа\", \"Название товара\", \"Категория товара\", \"Количество продаж\", \"Цена за единицу\", \"Общая стоимость\"]\n",
    "\n",
    "\n",
    "csv_file_path = \"sales_data.csv\"\n",
    "\n",
    "\n",
    "with open(csv_file_path, mode='w', encoding='utf-8', newline='') as file:\n",
    "    writer = csv.writer(file)\n",
    "    writer.writerow(header)\n",
    "    writer.writerows(sales_data)\n"
   ]
  },
  {
   "cell_type": "code",
   "execution_count": 4,
   "metadata": {
    "id": "DkCABQwUcSO1"
   },
   "outputs": [],
   "source": [
    "import csv\n",
    "from collections import defaultdict\n",
    "\n",
    "def read_sales_data(file_path):\n",
    "    \"\"\"\n",
    "    Читает данные из CSV файла и возвращает их в виде списка словарей.\n",
    "\n",
    "    :param file_path: Путь к CSV файлу с данными о продажах.\n",
    "    :return: Список словарей, содержащих данные о продажах.\n",
    "    \"\"\"\n",
    "    sales_data = []\n",
    "    try:\n",
    "        with open(file_path, mode='r', encoding='utf-8') as file:\n",
    "            reader = csv.DictReader(file)\n",
    "            for row in reader:\n",
    "                sales_data.append(row)\n",
    "    except IOError as e:\n",
    "        print(f\"Error reading file {file_path}: {e}\")\n",
    "    return sales_data\n",
    "\n",
    "def calculate_total_revenue(sales_data):\n",
    "    \"\"\"\n",
    "    Рассчитывает общую выручку магазина.\n",
    "\n",
    "    :param sales_data: Список словарей с данными о продажах.\n",
    "    :return: Общая выручка магазина.\n",
    "    \"\"\"\n",
    "    total_revenue = 0.0\n",
    "    for sale in sales_data:\n",
    "        total_revenue += float(sale['Общая стоимость'])\n",
    "    return total_revenue\n",
    "\n",
    "def find_top_selling_product(sales_data):\n",
    "    \"\"\"\n",
    "    Находит товар, который был продан наибольшее количество раз.\n",
    "\n",
    "    :param sales_data: Список словарей с данными о продажах.\n",
    "    :return: Название товара и количество продаж.\n",
    "    \"\"\"\n",
    "    product_sales = defaultdict(int)\n",
    "    for sale in sales_data:\n",
    "        product_sales[sale['Название товара']] += int(sale['Количество продаж'])\n",
    "    top_selling_product = max(product_sales, key=product_sales.get)\n",
    "    return top_selling_product, product_sales[top_selling_product]\n",
    "\n",
    "def find_top_revenue_product(sales_data):\n",
    "    \"\"\"\n",
    "    Находит товар, который принес наибольшую выручку.\n",
    "\n",
    "    :param sales_data: Список словарей с данными о продажах.\n",
    "    :return: Название товара и выручка.\n",
    "    \"\"\"\n",
    "    product_revenue = defaultdict(float)\n",
    "    for sale in sales_data:\n",
    "        product_revenue[sale['Название товара']] += float(sale['Общая стоимость'])\n",
    "    top_revenue_product = max(product_revenue, key=product_revenue.get)\n",
    "    return top_revenue_product, product_revenue[top_revenue_product]\n",
    "\n",
    "def generate_report(sales_data):\n",
    "    \"\"\"\n",
    "    Составляет отчет, содержащий информацию об общей выручке магазина,\n",
    "    количестве проданных единиц каждого товара и доле каждого товара в общей выручке.\n",
    "\n",
    "    :param sales_data: Список словарей с данными о продажах.\n",
    "    :return: Словарь с отчетом.\n",
    "    \"\"\"\n",
    "    total_revenue = calculate_total_revenue(sales_data)\n",
    "    product_sales = defaultdict(int)\n",
    "    product_revenue = defaultdict(float)\n",
    "\n",
    "    for sale in sales_data:\n",
    "        product_sales[sale['Название товара']] += int(sale['Количество продаж'])\n",
    "        product_revenue[sale['Название товара']] += float(sale['Общая стоимость'])\n",
    "\n",
    "    report = {\n",
    "        'Общая выручка': total_revenue,\n",
    "        'Продажи по товарам': product_sales,\n",
    "        'Доля выручки по товарам': {product: revenue / total_revenue for product, revenue in product_revenue.items()}\n",
    "    }\n",
    "\n",
    "    return report\n",
    "\n",
    "\n",
    "sales_data = read_sales_data('sales_data.csv')\n",
    "total_revenue = calculate_total_revenue(sales_data)\n",
    "top_selling_product, top_selling_count = find_top_selling_product(sales_data)\n",
    "top_revenue_product, top_revenue_amount = find_top_revenue_product(sales_data)\n",
    "report = generate_report(sales_data)\n",
    "\n",
    "\n"
   ]
  },
  {
   "cell_type": "code",
   "execution_count": 5,
   "metadata": {
    "colab": {
     "base_uri": "https://localhost:8080/"
    },
    "id": "P592fyBC1hgW",
    "outputId": "97d14ef5-cfda-48d9-cf6c-5756752e5d65"
   },
   "outputs": [
    {
     "name": "stdout",
     "output_type": "stream",
     "text": [
      "Общая выручка магазина: 7250.0\n",
      "Товар, который был продан наибольшее количество раз: Товар A (26 раз)\n",
      "Товар, который принес наибольшую выручку: Товар B (3600.0 руб.)\n",
      "Отчет:\n",
      "{'Общая выручка': 7250.0, 'Продажи по товарам': defaultdict(<class 'int'>, {'Товар A': 26, 'Товар B': 18, 'Товар C': 7}), 'Доля выручки по товарам': {'Товар A': 0.3586206896551724, 'Товар B': 0.496551724137931, 'Товар C': 0.14482758620689656}}\n"
     ]
    }
   ],
   "source": [
    "# Print results\n",
    "print(f\"Общая выручка магазина: {total_revenue}\")\n",
    "print(f\"Товар, который был продан наибольшее количество раз: {top_selling_product} ({top_selling_count} раз)\")\n",
    "print(f\"Товар, который принес наибольшую выручку: {top_revenue_product} ({top_revenue_amount} руб.)\")\n",
    "print(\"Отчет:\")\n",
    "print(report)"
   ]
  }
 ],
 "metadata": {
  "colab": {
   "provenance": []
  },
  "kernelspec": {
   "display_name": "Python 3 (ipykernel)",
   "language": "python",
   "name": "python3"
  },
  "language_info": {
   "codemirror_mode": {
    "name": "ipython",
    "version": 3
   },
   "file_extension": ".py",
   "mimetype": "text/x-python",
   "name": "python",
   "nbconvert_exporter": "python",
   "pygments_lexer": "ipython3",
   "version": "3.12.2"
  }
 },
 "nbformat": 4,
 "nbformat_minor": 4
}
